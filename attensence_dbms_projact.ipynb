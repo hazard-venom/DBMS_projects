{
 "cells": [
  {
   "cell_type": "code",
   "execution_count": 1,
   "id": "ba33e9ff-53d0-49a1-98ac-9b2dd7f92ab3",
   "metadata": {},
   "outputs": [],
   "source": [
    "import pymysql as sql"
   ]
  },
  {
   "cell_type": "code",
   "execution_count": 2,
   "id": "2f920bbf-be33-4f86-a737-ff531f142971",
   "metadata": {},
   "outputs": [],
   "source": [
    "from functools import reduce"
   ]
  },
  {
   "cell_type": "code",
   "execution_count": 45,
   "id": "11ebe1a7-a058-48c4-8030-080ece3e8c19",
   "metadata": {},
   "outputs": [],
   "source": [
    "def creating_connection():\n",
    "    conn = sql.connect(user='root',\n",
    "    password='',\n",
    "    database='student_attendence',port=3306)\n",
    "    cur = conn.cursor()\n",
    "    options = int(input(\"enter one option given as \\n 1 for veiw data \\n 2 for add new student data \\n 3 for marking attendene \\n 4 for exit --> \"))\n",
    "    match options:\n",
    "          case 1:\n",
    "               view_data()\n",
    "          case 2: \n",
    "              add_data()\n",
    "          case 3:\n",
    "              mark_attendence()\n",
    "          case 4:\n",
    "              print(\"exit\")\n",
    "          case _:\n",
    "              print(\"invalid option\")\n"
   ]
  },
  {
   "cell_type": "code",
   "execution_count": 11,
   "id": "a822d724-af0c-4f93-a88a-49fd3ffb6e08",
   "metadata": {},
   "outputs": [],
   "source": [
    "def add_data():\n",
    "    conn = sql.connect(user='root', password='', database='student_attendence', port=3306)\n",
    "    cur = conn.cursor()\n",
    "    \n",
    "    sname = input(\"Enter student name: \")\n",
    "    sid = int(input(\"Enter student ID: \"))\n",
    "    \n",
    "\n",
    "    statement = f\"insert into stu values ('{sname}', {sid})\"\n",
    "    \n",
    "    try:\n",
    "        cur.execute(statement)\n",
    "        conn.commit()\n",
    "        print(\"Student data inserted successfully.\")\n",
    "    except Exception as e:\n",
    "        print(\"Error inserting data:\", e)\n",
    "    finally:\n",
    "        cur.close()\n",
    "        conn.close()\n"
   ]
  },
  {
   "cell_type": "code",
   "execution_count": 32,
   "id": "12413c56-20ad-41fd-a65f-425de5082460",
   "metadata": {},
   "outputs": [
    {
     "name": "stdout",
     "output_type": "stream",
     "text": [
      "Collecting mysql\n",
      "  Downloading mysql-0.0.3-py3-none-any.whl.metadata (746 bytes)\n",
      "Requirement already satisfied: mysqlclient in c:\\users\\asif\\anaconda3\\lib\\site-packages (from mysql) (2.2.5)\n",
      "Downloading mysql-0.0.3-py3-none-any.whl (1.2 kB)\n",
      "Installing collected packages: mysql\n",
      "Successfully installed mysql-0.0.3\n",
      "Note: you may need to restart the kernel to use updated packages.\n"
     ]
    }
   ],
   "source": [
    "pip install mysql\n"
   ]
  },
  {
   "cell_type": "code",
   "execution_count": 34,
   "id": "3128ca1a-d0cc-45bb-b8dd-19c4fe0d85a5",
   "metadata": {},
   "outputs": [],
   "source": [
    "from datetime import date\n",
    "def mark_attendence():\n",
    "    conn = sql.connect(user='root', password='', database='student_attendence', port=3306)\n",
    "    cur = conn.cursor()\n",
    "\n",
    "    today = date.today()\n",
    "    sid = int(input(\"Enter student ID to mark attendance: \"))\n",
    "    present_input = input(\"Is student present? (yes/no): \").strip().lower()\n",
    "    present = True if present_input in ['yes', 'y', '1'] else False\n",
    "\n",
    "    try:\n",
    "        # Try to insert attendance (will fail if already marked for today)\n",
    "        cur.execute(\"INSERT INTO attendence (sid, date, present) VALUES (%s, %s, %s)\", (sid, today, present))\n",
    "        conn.commit()\n",
    "        print(f\"Attendance marked for student ID {sid} on {today}.\")\n",
    "    except sql.errors.IntegrityError:\n",
    "        print(f\"Attendance for student ID {sid} on {today} already exists. Cannot modify past record.\")\n",
    "    except Exception as e:\n",
    "        print(\"Error marking attendance:\", e)\n",
    "    finally:\n",
    "        cur.close()\n",
    "        conn.close()\n"
   ]
  },
  {
   "cell_type": "code",
   "execution_count": 43,
   "id": "723a0792-8b36-4479-94cc-030e41d3d2a7",
   "metadata": {},
   "outputs": [],
   "source": [
    "def view_data():\n",
    "    \n",
    "    conn = sql.connect(user='root', password='', database='student_attendence', port=3306)\n",
    "    cur = conn.cursor()\n",
    "\n",
    "    # Join stu with attendence to show attendance per student\n",
    "    query = '''\n",
    "        SELECT s.sid, s.sname, a.date, a.present\n",
    "        FROM stu s\n",
    "        LEFT JOIN attendence a ON s.sid = a.sid\n",
    "        ORDER BY s.sid, a.date\n",
    "    '''\n",
    "    cur.execute(query)\n",
    "    records = cur.fetchall()\n",
    "\n",
    "    print(\"\\nStudent Attendance Records:\")\n",
    "    if records:\n",
    "        for row in records:\n",
    "            sid, sname, att_date, present = row\n",
    "            status = \"Present\" if present == 1 else \"Absent\" if present == 0 else \"No Record\"\n",
    "            date_str = att_date.strftime('%Y-%m-%d') if att_date else \"N/A\"\n",
    "            print(f\"ID: {sid} | Name: {sname} | Date: {date_str} | Status: {status}\")\n",
    "    else:\n",
    "        print(\"No records found.\")\n",
    "    \n",
    "    cur.close()\n",
    "    conn.close()\n"
   ]
  },
  {
   "cell_type": "code",
   "execution_count": 44,
   "id": "d08d67ab-c19d-4a83-b3e9-db00db1071fe",
   "metadata": {},
   "outputs": [
    {
     "name": "stdout",
     "output_type": "stream",
     "text": [
      "\n",
      "Student Attendance Records:\n",
      "ID: 101 | Name: asif | Date: 2025-05-22 | Status: Present\n",
      "ID: 102 | Name: king | Date: N/A | Status: No Record\n"
     ]
    }
   ],
   "source": [
    "view_data()"
   ]
  },
  {
   "cell_type": "code",
   "execution_count": 48,
   "id": "1286ef69-8727-4c2f-b124-57e585ff42b2",
   "metadata": {},
   "outputs": [
    {
     "name": "stdin",
     "output_type": "stream",
     "text": [
      "enter one option given as \n",
      " 1 for veiw data \n",
      " 2 for add new student data \n",
      " 3 for marking attendene \n",
      " 4 for exit -->  1\n"
     ]
    },
    {
     "name": "stdout",
     "output_type": "stream",
     "text": [
      "\n",
      "Student Attendance Records:\n",
      "ID: 101 | Name: asif | Date: 2025-05-22 | Status: Present\n",
      "ID: 102 | Name: king | Date: N/A | Status: No Record\n",
      "ID: 103 | Name: queen | Date: N/A | Status: No Record\n"
     ]
    }
   ],
   "source": [
    "creating_connection()"
   ]
  },
  {
   "cell_type": "code",
   "execution_count": null,
   "id": "85e9ec04-b84d-4889-aa49-f55ceda003d1",
   "metadata": {},
   "outputs": [],
   "source": []
  }
 ],
 "metadata": {
  "kernelspec": {
   "display_name": "Python 3 (ipykernel)",
   "language": "python",
   "name": "python3"
  },
  "language_info": {
   "codemirror_mode": {
    "name": "ipython",
    "version": 3
   },
   "file_extension": ".py",
   "mimetype": "text/x-python",
   "name": "python",
   "nbconvert_exporter": "python",
   "pygments_lexer": "ipython3",
   "version": "3.12.4"
  }
 },
 "nbformat": 4,
 "nbformat_minor": 5
}
